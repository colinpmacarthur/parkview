{
 "metadata": {
  "name": ""
 },
 "nbformat": 3,
 "nbformat_minor": 0,
 "worksheets": [
  {
   "cells": [
    {
     "cell_type": "code",
     "collapsed": false,
     "input": [
      "import pandas\n",
      "import csv\n",
      "import pymysql\n",
      "import pandas.io.sql as sql"
     ],
     "language": "python",
     "metadata": {},
     "outputs": [],
     "prompt_number": 1
    },
    {
     "cell_type": "code",
     "collapsed": false,
     "input": [
      "conn = pymysql.connect(host='localhost', port=3306, user='root', passwd='rem0te', db='ParkDB')\n",
      "#dataframe1 = sql.read_frame(\"select * from SOCIAL_YELP\",conn)"
     ],
     "language": "python",
     "metadata": {},
     "outputs": [],
     "prompt_number": 2
    },
    {
     "cell_type": "code",
     "collapsed": false,
     "input": [
      "#dataframe1 = sql.read_frame(\"select ALLSNSDA* from ALLSNSDATA\",conn)\n",
      "dataframe7 = sql.read_frame(\"SELECT ALLSNSDATA.row_id,ALLSNSDATA.recId,ALLSNSDATA.user,ALLSNSDATA.link,ALLSNSDATA.sns,ALLSNSDATA.date,ALLSNSDATA.rating,ALLSNSDATA.title,ALLSNSDATA.comment,ALLSNSDATA.city, ALLSNSDATA.state,ALLSNSDATA.address,ALLSNSDATA.visbility_count,ALLSNSDATA.sentiment,SOCIALNETS.sns as snsname FROM ALLSNSDATA, SOCIALNETS WHERE  SOCIALNETS.id = ALLSNSDATA.sns ORDER BY ALLSNSDATA.row_id ASC\",conn)\n"
     ],
     "language": "python",
     "metadata": {},
     "outputs": [],
     "prompt_number": 53
    },
    {
     "cell_type": "code",
     "collapsed": false,
     "input": [
      "dataframe7[0:5]"
     ],
     "language": "python",
     "metadata": {},
     "outputs": [
      {
       "html": [
        "<div style=\"max-height:1000px;max-width:1500px;overflow:auto;\">\n",
        "<table border=\"1\" class=\"dataframe\">\n",
        "  <thead>\n",
        "    <tr style=\"text-align: right;\">\n",
        "      <th></th>\n",
        "      <th>row_id</th>\n",
        "      <th>recId</th>\n",
        "      <th>user</th>\n",
        "      <th>link</th>\n",
        "      <th>sns</th>\n",
        "      <th>date</th>\n",
        "      <th>rating</th>\n",
        "      <th>title</th>\n",
        "      <th>comment</th>\n",
        "      <th>city</th>\n",
        "      <th>state</th>\n",
        "      <th>address</th>\n",
        "      <th>visbility_count</th>\n",
        "      <th>sentiment</th>\n",
        "      <th>snsname</th>\n",
        "    </tr>\n",
        "  </thead>\n",
        "  <tbody>\n",
        "    <tr>\n",
        "      <th>0</th>\n",
        "      <td> 6263</td>\n",
        "      <td> 1</td>\n",
        "      <td> cityseacountry</td>\n",
        "      <td> https://twitter.com/cityseacountry/status/4469...</td>\n",
        "      <td> 2</td>\n",
        "      <td> 2014-03-21</td>\n",
        "      <td>NaN</td>\n",
        "      <td> None</td>\n",
        "      <td> White Magic Mountain Mud Pots And Stinking Fum...</td>\n",
        "      <td> None</td>\n",
        "      <td> None</td>\n",
        "      <td> None</td>\n",
        "      <td>NaN</td>\n",
        "      <td> 0</td>\n",
        "      <td> TWITTER</td>\n",
        "    </tr>\n",
        "    <tr>\n",
        "      <th>1</th>\n",
        "      <td> 6264</td>\n",
        "      <td> 2</td>\n",
        "      <td>      alivein24</td>\n",
        "      <td> https://twitter.com/alivein24/status/446879575...</td>\n",
        "      <td> 2</td>\n",
        "      <td> 2014-03-21</td>\n",
        "      <td>NaN</td>\n",
        "      <td> None</td>\n",
        "      <td> Summit Lake Lassen Volcanic Park via @pinteres...</td>\n",
        "      <td> None</td>\n",
        "      <td> None</td>\n",
        "      <td> None</td>\n",
        "      <td>NaN</td>\n",
        "      <td> 0</td>\n",
        "      <td> TWITTER</td>\n",
        "    </tr>\n",
        "    <tr>\n",
        "      <th>2</th>\n",
        "      <td> 6265</td>\n",
        "      <td> 3</td>\n",
        "      <td>      hardgrove</td>\n",
        "      <td> https://twitter.com/hardgrove/status/446309112...</td>\n",
        "      <td> 2</td>\n",
        "      <td> 2014-03-19</td>\n",
        "      <td>NaN</td>\n",
        "      <td> None</td>\n",
        "      <td> Studying hydrothermal rocks in Lassen Volcanic...</td>\n",
        "      <td> None</td>\n",
        "      <td> None</td>\n",
        "      <td> None</td>\n",
        "      <td>NaN</td>\n",
        "      <td> 0</td>\n",
        "      <td> TWITTER</td>\n",
        "    </tr>\n",
        "    <tr>\n",
        "      <th>3</th>\n",
        "      <td> 6266</td>\n",
        "      <td> 4</td>\n",
        "      <td>       saganorg</td>\n",
        "      <td> https://twitter.com/saganorg/status/4463055680...</td>\n",
        "      <td> 2</td>\n",
        "      <td> 2014-03-19</td>\n",
        "      <td>NaN</td>\n",
        "      <td> None</td>\n",
        "      <td> Lassen Volcanic National Park used as an analo...</td>\n",
        "      <td> None</td>\n",
        "      <td> None</td>\n",
        "      <td> None</td>\n",
        "      <td>NaN</td>\n",
        "      <td> 0</td>\n",
        "      <td> TWITTER</td>\n",
        "    </tr>\n",
        "    <tr>\n",
        "      <th>4</th>\n",
        "      <td> 6267</td>\n",
        "      <td> 5</td>\n",
        "      <td> cityseacountry</td>\n",
        "      <td> https://twitter.com/cityseacountry/status/4461...</td>\n",
        "      <td> 2</td>\n",
        "      <td> 2014-03-19</td>\n",
        "      <td>NaN</td>\n",
        "      <td> None</td>\n",
        "      <td> White Magic Mountain Mud Pots And... http://is...</td>\n",
        "      <td> None</td>\n",
        "      <td> None</td>\n",
        "      <td> None</td>\n",
        "      <td>NaN</td>\n",
        "      <td> 0</td>\n",
        "      <td> TWITTER</td>\n",
        "    </tr>\n",
        "  </tbody>\n",
        "</table>\n",
        "<p>5 rows \u00d7 15 columns</p>\n",
        "</div>"
       ],
       "metadata": {},
       "output_type": "pyout",
       "prompt_number": 55,
       "text": [
        "   row_id  recId            user  \\\n",
        "0    6263      1  cityseacountry   \n",
        "1    6264      2       alivein24   \n",
        "2    6265      3       hardgrove   \n",
        "3    6266      4        saganorg   \n",
        "4    6267      5  cityseacountry   \n",
        "\n",
        "                                                link  sns        date  rating  \\\n",
        "0  https://twitter.com/cityseacountry/status/4469...    2  2014-03-21     NaN   \n",
        "1  https://twitter.com/alivein24/status/446879575...    2  2014-03-21     NaN   \n",
        "2  https://twitter.com/hardgrove/status/446309112...    2  2014-03-19     NaN   \n",
        "3  https://twitter.com/saganorg/status/4463055680...    2  2014-03-19     NaN   \n",
        "4  https://twitter.com/cityseacountry/status/4461...    2  2014-03-19     NaN   \n",
        "\n",
        "  title                                            comment  city state  \\\n",
        "0  None  White Magic Mountain Mud Pots And Stinking Fum...  None  None   \n",
        "1  None  Summit Lake Lassen Volcanic Park via @pinteres...  None  None   \n",
        "2  None  Studying hydrothermal rocks in Lassen Volcanic...  None  None   \n",
        "3  None  Lassen Volcanic National Park used as an analo...  None  None   \n",
        "4  None  White Magic Mountain Mud Pots And... http://is...  None  None   \n",
        "\n",
        "  address  visbility_count  sentiment  snsname  \n",
        "0    None              NaN          0  TWITTER  \n",
        "1    None              NaN          0  TWITTER  \n",
        "2    None              NaN          0  TWITTER  \n",
        "3    None              NaN          0  TWITTER  \n",
        "4    None              NaN          0  TWITTER  \n",
        "\n",
        "[5 rows x 15 columns]"
       ]
      }
     ],
     "prompt_number": 55
    },
    {
     "cell_type": "code",
     "collapsed": false,
     "input": [
      "dataframe2 = sql.read_frame(\"SELECT TRACK_SITES.site_id, TRACK_SITES.social as sns, TRACK_SITES.recId, TRACK_SITES.place,SOCIALNETS.sns AS snsname FROM TRACK_SITES, SOCIALNETS WHERE TRACK_SITES.social = SOCIALNETS.id\",conn)\n",
      "\n"
     ],
     "language": "python",
     "metadata": {},
     "outputs": [],
     "prompt_number": 25
    },
    {
     "cell_type": "code",
     "collapsed": false,
     "input": [
      "dataframe2[-10:]"
     ],
     "language": "python",
     "metadata": {},
     "outputs": [
      {
       "html": [
        "<div style=\"max-height:1000px;max-width:1500px;overflow:auto;\">\n",
        "<table border=\"1\" class=\"dataframe\">\n",
        "  <thead>\n",
        "    <tr style=\"text-align: right;\">\n",
        "      <th></th>\n",
        "      <th>site_id</th>\n",
        "      <th>sns</th>\n",
        "      <th>recId</th>\n",
        "      <th>place</th>\n",
        "      <th>snsname</th>\n",
        "    </tr>\n",
        "  </thead>\n",
        "  <tbody>\n",
        "    <tr>\n",
        "      <th>4783</th>\n",
        "      <td> 5129</td>\n",
        "      <td> 3</td>\n",
        "      <td> 204</td>\n",
        "      <td>   Bumpass Hell</td>\n",
        "      <td> TRIP_ADVISOR</td>\n",
        "    </tr>\n",
        "    <tr>\n",
        "      <th>4784</th>\n",
        "      <td> 5130</td>\n",
        "      <td> 3</td>\n",
        "      <td> 204</td>\n",
        "      <td>   King's Creek</td>\n",
        "      <td> TRIP_ADVISOR</td>\n",
        "    </tr>\n",
        "    <tr>\n",
        "      <th>4785</th>\n",
        "      <td> 5131</td>\n",
        "      <td> 3</td>\n",
        "      <td> 213</td>\n",
        "      <td>   Bumpass Hell</td>\n",
        "      <td> TRIP_ADVISOR</td>\n",
        "    </tr>\n",
        "    <tr>\n",
        "      <th>4786</th>\n",
        "      <td> 5132</td>\n",
        "      <td> 3</td>\n",
        "      <td> 216</td>\n",
        "      <td> Visitor Center</td>\n",
        "      <td> TRIP_ADVISOR</td>\n",
        "    </tr>\n",
        "    <tr>\n",
        "      <th>4787</th>\n",
        "      <td> 5133</td>\n",
        "      <td> 3</td>\n",
        "      <td> 217</td>\n",
        "      <td>   Bumpass Hell</td>\n",
        "      <td> TRIP_ADVISOR</td>\n",
        "    </tr>\n",
        "    <tr>\n",
        "      <th>4788</th>\n",
        "      <td> 5134</td>\n",
        "      <td> 3</td>\n",
        "      <td> 217</td>\n",
        "      <td>  Sulphur Works</td>\n",
        "      <td> TRIP_ADVISOR</td>\n",
        "    </tr>\n",
        "    <tr>\n",
        "      <th>4789</th>\n",
        "      <td> 5135</td>\n",
        "      <td> 3</td>\n",
        "      <td> 221</td>\n",
        "      <td>   Bumpass Hell</td>\n",
        "      <td> TRIP_ADVISOR</td>\n",
        "    </tr>\n",
        "    <tr>\n",
        "      <th>4790</th>\n",
        "      <td> 5136</td>\n",
        "      <td> 3</td>\n",
        "      <td> 222</td>\n",
        "      <td>   Bumpass Hell</td>\n",
        "      <td> TRIP_ADVISOR</td>\n",
        "    </tr>\n",
        "    <tr>\n",
        "      <th>4791</th>\n",
        "      <td> 5137</td>\n",
        "      <td> 3</td>\n",
        "      <td> 223</td>\n",
        "      <td>   Bumpass Hell</td>\n",
        "      <td> TRIP_ADVISOR</td>\n",
        "    </tr>\n",
        "    <tr>\n",
        "      <th>4792</th>\n",
        "      <td> 5138</td>\n",
        "      <td> 3</td>\n",
        "      <td> 225</td>\n",
        "      <td>   Bumpass Hell</td>\n",
        "      <td> TRIP_ADVISOR</td>\n",
        "    </tr>\n",
        "  </tbody>\n",
        "</table>\n",
        "<p>10 rows \u00d7 5 columns</p>\n",
        "</div>"
       ],
       "metadata": {},
       "output_type": "pyout",
       "prompt_number": 26,
       "text": [
        "      site_id  sns  recId           place       snsname\n",
        "4783     5129    3    204    Bumpass Hell  TRIP_ADVISOR\n",
        "4784     5130    3    204    King's Creek  TRIP_ADVISOR\n",
        "4785     5131    3    213    Bumpass Hell  TRIP_ADVISOR\n",
        "4786     5132    3    216  Visitor Center  TRIP_ADVISOR\n",
        "4787     5133    3    217    Bumpass Hell  TRIP_ADVISOR\n",
        "4788     5134    3    217   Sulphur Works  TRIP_ADVISOR\n",
        "4789     5135    3    221    Bumpass Hell  TRIP_ADVISOR\n",
        "4790     5136    3    222    Bumpass Hell  TRIP_ADVISOR\n",
        "4791     5137    3    223    Bumpass Hell  TRIP_ADVISOR\n",
        "4792     5138    3    225    Bumpass Hell  TRIP_ADVISOR\n",
        "\n",
        "[10 rows x 5 columns]"
       ]
      }
     ],
     "prompt_number": 26
    },
    {
     "cell_type": "code",
     "collapsed": false,
     "input": [
      "##dimUser = mergeDf[[0,11,9,10]]\n",
      "dimUser = dataframe1[[0,2,11,9,10]]\n",
      "dimUser[-10:]    "
     ],
     "language": "python",
     "metadata": {},
     "outputs": [
      {
       "html": [
        "<div style=\"max-height:1000px;max-width:1500px;overflow:auto;\">\n",
        "<table border=\"1\" class=\"dataframe\">\n",
        "  <thead>\n",
        "    <tr style=\"text-align: right;\">\n",
        "      <th></th>\n",
        "      <th>row_id</th>\n",
        "      <th>user</th>\n",
        "      <th>address</th>\n",
        "      <th>city</th>\n",
        "      <th>state</th>\n",
        "    </tr>\n",
        "  </thead>\n",
        "  <tbody>\n",
        "    <tr>\n",
        "      <th>4889</th>\n",
        "      <td> 11941</td>\n",
        "      <td>         meyersb</td>\n",
        "      <td> None</td>\n",
        "      <td>         Chicago</td>\n",
        "      <td>           </td>\n",
        "    </tr>\n",
        "    <tr>\n",
        "      <th>4890</th>\n",
        "      <td> 11942</td>\n",
        "      <td>        ronnyber</td>\n",
        "      <td> None</td>\n",
        "      <td>         Windsor</td>\n",
        "      <td>     Canada</td>\n",
        "    </tr>\n",
        "    <tr>\n",
        "      <th>4891</th>\n",
        "      <td> 11943</td>\n",
        "      <td>      Novalee518</td>\n",
        "      <td> None</td>\n",
        "      <td>          Albany</td>\n",
        "      <td>   New York</td>\n",
        "    </tr>\n",
        "    <tr>\n",
        "      <th>4892</th>\n",
        "      <td> 11944</td>\n",
        "      <td>                </td>\n",
        "      <td> None</td>\n",
        "      <td>                </td>\n",
        "      <td>           </td>\n",
        "    </tr>\n",
        "    <tr>\n",
        "      <th>4893</th>\n",
        "      <td> 11945</td>\n",
        "      <td>       PasCaLady</td>\n",
        "      <td> None</td>\n",
        "      <td>        Pasadena</td>\n",
        "      <td> California</td>\n",
        "    </tr>\n",
        "    <tr>\n",
        "      <th>4894</th>\n",
        "      <td> 11946</td>\n",
        "      <td>          Sara H</td>\n",
        "      <td> None</td>\n",
        "      <td> Menomonee Falls</td>\n",
        "      <td>  Wisconsin</td>\n",
        "    </tr>\n",
        "    <tr>\n",
        "      <th>4895</th>\n",
        "      <td> 11947</td>\n",
        "      <td>      Pegscraper</td>\n",
        "      <td> None</td>\n",
        "      <td>         Oakland</td>\n",
        "      <td> California</td>\n",
        "    </tr>\n",
        "    <tr>\n",
        "      <th>4896</th>\n",
        "      <td> 11948</td>\n",
        "      <td>           Lee H</td>\n",
        "      <td> None</td>\n",
        "      <td>           Chico</td>\n",
        "      <td> California</td>\n",
        "    </tr>\n",
        "    <tr>\n",
        "      <th>4897</th>\n",
        "      <td> 11949</td>\n",
        "      <td>           jmo02</td>\n",
        "      <td> None</td>\n",
        "      <td>                </td>\n",
        "      <td>           </td>\n",
        "    </tr>\n",
        "    <tr>\n",
        "      <th>4898</th>\n",
        "      <td> 11950</td>\n",
        "      <td> MonkeyOnTheWing</td>\n",
        "      <td> None</td>\n",
        "      <td>   Moreno Valley</td>\n",
        "      <td> California</td>\n",
        "    </tr>\n",
        "  </tbody>\n",
        "</table>\n",
        "<p>10 rows \u00d7 5 columns</p>\n",
        "</div>"
       ],
       "metadata": {},
       "output_type": "pyout",
       "prompt_number": 41,
       "text": [
        "      row_id             user address             city       state\n",
        "4889   11941          meyersb    None          Chicago            \n",
        "4890   11942         ronnyber    None          Windsor      Canada\n",
        "4891   11943       Novalee518    None           Albany    New York\n",
        "4892   11944                     None                             \n",
        "4893   11945        PasCaLady    None         Pasadena  California\n",
        "4894   11946           Sara H    None  Menomonee Falls   Wisconsin\n",
        "4895   11947       Pegscraper    None          Oakland  California\n",
        "4896   11948            Lee H    None            Chico  California\n",
        "4897   11949            jmo02    None                             \n",
        "4898   11950  MonkeyOnTheWing    None    Moreno Valley  California\n",
        "\n",
        "[10 rows x 5 columns]"
       ]
      }
     ],
     "prompt_number": 41
    },
    {
     "cell_type": "code",
     "collapsed": false,
     "input": [
      "##dimComment = mergeDf[[8,7,3,12]]\n",
      "dimComment = dataframe7[[8,7,3,12,14]]\n",
      "##dimTime = mergeDf[[5]]\n",
      "#dimTime = dataframe1[[5]]"
     ],
     "language": "python",
     "metadata": {},
     "outputs": [],
     "prompt_number": 56
    },
    {
     "cell_type": "code",
     "collapsed": false,
     "input": [
      "dimComment[-2:]\n"
     ],
     "language": "python",
     "metadata": {},
     "outputs": [
      {
       "html": [
        "<div style=\"max-height:1000px;max-width:1500px;overflow:auto;\">\n",
        "<table border=\"1\" class=\"dataframe\">\n",
        "  <thead>\n",
        "    <tr style=\"text-align: right;\">\n",
        "      <th></th>\n",
        "      <th>comment</th>\n",
        "      <th>title</th>\n",
        "      <th>link</th>\n",
        "      <th>visbility_count</th>\n",
        "      <th>snsname</th>\n",
        "    </tr>\n",
        "  </thead>\n",
        "  <tbody>\n",
        "    <tr>\n",
        "      <th>4897</th>\n",
        "      <td> We had a great day seeing some of CA's natural...</td>\n",
        "      <td>                           Great day trip!!!!!</td>\n",
        "      <td> http://www.tripadvisor.com/ShowUserReviews-g14...</td>\n",
        "      <td>NaN</td>\n",
        "      <td> TRIP_ADVISOR</td>\n",
        "    </tr>\n",
        "    <tr>\n",
        "      <th>4898</th>\n",
        "      <td> Mt Lassen is much more rugged than its gracefu...</td>\n",
        "      <td> Prior to Mt St Helens Lassen was most active </td>\n",
        "      <td> http://www.tripadvisor.com/ShowUserReviews-g14...</td>\n",
        "      <td>NaN</td>\n",
        "      <td> TRIP_ADVISOR</td>\n",
        "    </tr>\n",
        "  </tbody>\n",
        "</table>\n",
        "<p>2 rows \u00d7 5 columns</p>\n",
        "</div>"
       ],
       "metadata": {},
       "output_type": "pyout",
       "prompt_number": 57,
       "text": [
        "                                                comment  \\\n",
        "4897  We had a great day seeing some of CA's natural...   \n",
        "4898  Mt Lassen is much more rugged than its gracefu...   \n",
        "\n",
        "                                              title  \\\n",
        "4897                            Great day trip!!!!!   \n",
        "4898  Prior to Mt St Helens Lassen was most active    \n",
        "\n",
        "                                                   link  visbility_count  \\\n",
        "4897  http://www.tripadvisor.com/ShowUserReviews-g14...              NaN   \n",
        "4898  http://www.tripadvisor.com/ShowUserReviews-g14...              NaN   \n",
        "\n",
        "           snsname  \n",
        "4897  TRIP_ADVISOR  \n",
        "4898  TRIP_ADVISOR  \n",
        "\n",
        "[2 rows x 5 columns]"
       ]
      }
     ],
     "prompt_number": 57
    },
    {
     "cell_type": "code",
     "collapsed": false,
     "input": [
      "dimTime[-2:]"
     ],
     "language": "python",
     "metadata": {},
     "outputs": [
      {
       "html": [
        "<div style=\"max-height:1000px;max-width:1500px;overflow:auto;\">\n",
        "<table border=\"1\" class=\"dataframe\">\n",
        "  <thead>\n",
        "    <tr style=\"text-align: right;\">\n",
        "      <th></th>\n",
        "      <th>date</th>\n",
        "    </tr>\n",
        "  </thead>\n",
        "  <tbody>\n",
        "    <tr>\n",
        "      <th>4897</th>\n",
        "      <td> 2011-06-28</td>\n",
        "    </tr>\n",
        "    <tr>\n",
        "      <th>4898</th>\n",
        "      <td> 2011-06-26</td>\n",
        "    </tr>\n",
        "  </tbody>\n",
        "</table>\n",
        "<p>2 rows \u00d7 1 columns</p>\n",
        "</div>"
       ],
       "metadata": {},
       "output_type": "pyout",
       "prompt_number": 16,
       "text": [
        "            date\n",
        "4897  2011-06-28\n",
        "4898  2011-06-26\n",
        "\n",
        "[2 rows x 1 columns]"
       ]
      }
     ],
     "prompt_number": 16
    },
    {
     "cell_type": "code",
     "collapsed": false,
     "input": [
      "dimTime.index"
     ],
     "language": "python",
     "metadata": {},
     "outputs": [
      {
       "metadata": {},
       "output_type": "pyout",
       "prompt_number": 17,
       "text": [
        "Int64Index([0, 1, 2, 3, 4, 5, 6, 7, 8, 9, 10, 11, 12, 13, 14, 15, 16, 17, 18, 19, 20, 21, 22, 23, 24, 25, 26, 27, 28, 29, 30, 31, 32, 33, 34, 35, 36, 37, 38, 39, 40, 41, 42, 43, 44, 45, 46, 47, 48, 49, 50, 51, 52, 53, 54, 55, 56, 57, 58, 59, 60, 61, 62, 63, 64, 65, 66, 67, 68, 69, 70, 71, 72, 73, 74, 75, 76, 77, 78, 79, 80, 81, 82, 83, 84, 85, 86, 87, 88, 89, 90, 91, 92, 93, 94, 95, 96, 97, 98, 99, ...], dtype='int64')"
       ]
      }
     ],
     "prompt_number": 17
    },
    {
     "cell_type": "code",
     "collapsed": false,
     "input": [
      "#mergeDf = pandas.merge(dataframe1,dataframe2, on=['recId','sns'],how='outer')\n",
      "mergeDf = pandas.merge(dataframe1,dataframe2, on=['recId','sns'],how='inner')"
     ],
     "language": "python",
     "metadata": {},
     "outputs": [],
     "prompt_number": 27
    },
    {
     "cell_type": "code",
     "collapsed": false,
     "input": [
      "mergeDf[-10:]"
     ],
     "language": "python",
     "metadata": {},
     "outputs": [
      {
       "html": [
        "<div style=\"max-height:1000px;max-width:1500px;overflow:auto;\">\n",
        "<table border=\"1\" class=\"dataframe\">\n",
        "  <thead>\n",
        "    <tr style=\"text-align: right;\">\n",
        "      <th></th>\n",
        "      <th>row_id</th>\n",
        "      <th>recId</th>\n",
        "      <th>user</th>\n",
        "      <th>link</th>\n",
        "      <th>sns</th>\n",
        "      <th>date</th>\n",
        "      <th>rating</th>\n",
        "      <th>title</th>\n",
        "      <th>comment</th>\n",
        "      <th>city</th>\n",
        "      <th>state</th>\n",
        "      <th>address</th>\n",
        "      <th>visbility_count</th>\n",
        "      <th>sentiment</th>\n",
        "      <th>site_id</th>\n",
        "      <th>place</th>\n",
        "      <th>snsname</th>\n",
        "    </tr>\n",
        "  </thead>\n",
        "  <tbody>\n",
        "    <tr>\n",
        "      <th>4783</th>\n",
        "      <td> 11923</td>\n",
        "      <td> 204</td>\n",
        "      <td> look_for_trail</td>\n",
        "      <td> http://www.tripadvisor.com/ShowUserReviews-g14...</td>\n",
        "      <td> 3</td>\n",
        "      <td> 2012-07-20</td>\n",
        "      <td> 5</td>\n",
        "      <td>            Wonderful Park with so much to see</td>\n",
        "      <td> We wanted to visit this park a while ago final...</td>\n",
        "      <td> San Jose</td>\n",
        "      <td> California</td>\n",
        "      <td> None</td>\n",
        "      <td>NaN</td>\n",
        "      <td> 0.282169</td>\n",
        "      <td> 5129</td>\n",
        "      <td>   Bumpass Hell</td>\n",
        "      <td> TRIP_ADVISOR</td>\n",
        "    </tr>\n",
        "    <tr>\n",
        "      <th>4784</th>\n",
        "      <td> 11923</td>\n",
        "      <td> 204</td>\n",
        "      <td> look_for_trail</td>\n",
        "      <td> http://www.tripadvisor.com/ShowUserReviews-g14...</td>\n",
        "      <td> 3</td>\n",
        "      <td> 2012-07-20</td>\n",
        "      <td> 5</td>\n",
        "      <td>            Wonderful Park with so much to see</td>\n",
        "      <td> We wanted to visit this park a while ago final...</td>\n",
        "      <td> San Jose</td>\n",
        "      <td> California</td>\n",
        "      <td> None</td>\n",
        "      <td>NaN</td>\n",
        "      <td> 0.282169</td>\n",
        "      <td> 5130</td>\n",
        "      <td>   King's Creek</td>\n",
        "      <td> TRIP_ADVISOR</td>\n",
        "    </tr>\n",
        "    <tr>\n",
        "      <th>4785</th>\n",
        "      <td> 11932</td>\n",
        "      <td> 213</td>\n",
        "      <td>    Lucky_Lomio</td>\n",
        "      <td> http://www.tripadvisor.com/ShowUserReviews-g14...</td>\n",
        "      <td> 3</td>\n",
        "      <td> 2011-08-15</td>\n",
        "      <td> 5</td>\n",
        "      <td>         Nice Hike but young one's got tired..</td>\n",
        "      <td> My wife and I and our 2 sons ages 5 &amp; 2 (almos...</td>\n",
        "      <td> San Jose</td>\n",
        "      <td> California</td>\n",
        "      <td> None</td>\n",
        "      <td>NaN</td>\n",
        "      <td> 0.000000</td>\n",
        "      <td> 5131</td>\n",
        "      <td>   Bumpass Hell</td>\n",
        "      <td> TRIP_ADVISOR</td>\n",
        "    </tr>\n",
        "    <tr>\n",
        "      <th>4786</th>\n",
        "      <td> 11935</td>\n",
        "      <td> 216</td>\n",
        "      <td>        Rook3rs</td>\n",
        "      <td> http://www.tripadvisor.com/ShowUserReviews-g14...</td>\n",
        "      <td> 3</td>\n",
        "      <td> 2011-07-11</td>\n",
        "      <td> 4</td>\n",
        "      <td>                                   super views</td>\n",
        "      <td> As you drive through the park there are many d...</td>\n",
        "      <td> Scotland</td>\n",
        "      <td>           </td>\n",
        "      <td> None</td>\n",
        "      <td>NaN</td>\n",
        "      <td> 0.061527</td>\n",
        "      <td> 5132</td>\n",
        "      <td> Visitor Center</td>\n",
        "      <td> TRIP_ADVISOR</td>\n",
        "    </tr>\n",
        "    <tr>\n",
        "      <th>4787</th>\n",
        "      <td> 11936</td>\n",
        "      <td> 217</td>\n",
        "      <td>    VIPofHotels</td>\n",
        "      <td> http://www.tripadvisor.com/ShowUserReviews-g14...</td>\n",
        "      <td> 3</td>\n",
        "      <td> 2011-09-17</td>\n",
        "      <td> 5</td>\n",
        "      <td>               Top trail in Lassen Volcanic NP</td>\n",
        "      <td> This trail is so attractive that we spent anot...</td>\n",
        "      <td> San Jose</td>\n",
        "      <td>         CA</td>\n",
        "      <td> None</td>\n",
        "      <td>NaN</td>\n",
        "      <td> 0.323733</td>\n",
        "      <td> 5133</td>\n",
        "      <td>   Bumpass Hell</td>\n",
        "      <td> TRIP_ADVISOR</td>\n",
        "    </tr>\n",
        "    <tr>\n",
        "      <th>4788</th>\n",
        "      <td> 11936</td>\n",
        "      <td> 217</td>\n",
        "      <td>    VIPofHotels</td>\n",
        "      <td> http://www.tripadvisor.com/ShowUserReviews-g14...</td>\n",
        "      <td> 3</td>\n",
        "      <td> 2011-09-17</td>\n",
        "      <td> 5</td>\n",
        "      <td>               Top trail in Lassen Volcanic NP</td>\n",
        "      <td> This trail is so attractive that we spent anot...</td>\n",
        "      <td> San Jose</td>\n",
        "      <td>         CA</td>\n",
        "      <td> None</td>\n",
        "      <td>NaN</td>\n",
        "      <td> 0.323733</td>\n",
        "      <td> 5134</td>\n",
        "      <td>  Sulphur Works</td>\n",
        "      <td> TRIP_ADVISOR</td>\n",
        "    </tr>\n",
        "    <tr>\n",
        "      <th>4789</th>\n",
        "      <td> 11940</td>\n",
        "      <td> 221</td>\n",
        "      <td>      Deborah M</td>\n",
        "      <td> http://www.tripadvisor.com/ShowUserReviews-g14...</td>\n",
        "      <td> 3</td>\n",
        "      <td> 2011-03-13</td>\n",
        "      <td> 5</td>\n",
        "      <td> If The Trail Is Clear Don't Miss This Hike to</td>\n",
        "      <td> Bumpass hell is the largest area containnig ge...</td>\n",
        "      <td>  Chicago</td>\n",
        "      <td>   Illinois</td>\n",
        "      <td> None</td>\n",
        "      <td>NaN</td>\n",
        "      <td>-0.507910</td>\n",
        "      <td> 5135</td>\n",
        "      <td>   Bumpass Hell</td>\n",
        "      <td> TRIP_ADVISOR</td>\n",
        "    </tr>\n",
        "    <tr>\n",
        "      <th>4790</th>\n",
        "      <td> 11941</td>\n",
        "      <td> 222</td>\n",
        "      <td>        meyersb</td>\n",
        "      <td> http://www.tripadvisor.com/ShowUserReviews-g14...</td>\n",
        "      <td> 3</td>\n",
        "      <td> 2011-07-09</td>\n",
        "      <td> 5</td>\n",
        "      <td>                        America the Beautiful!</td>\n",
        "      <td> This place is amazing. Extremely scenic great ...</td>\n",
        "      <td>  Chicago</td>\n",
        "      <td>           </td>\n",
        "      <td> None</td>\n",
        "      <td>NaN</td>\n",
        "      <td> 0.578136</td>\n",
        "      <td> 5136</td>\n",
        "      <td>   Bumpass Hell</td>\n",
        "      <td> TRIP_ADVISOR</td>\n",
        "    </tr>\n",
        "    <tr>\n",
        "      <th>4791</th>\n",
        "      <td> 11942</td>\n",
        "      <td> 223</td>\n",
        "      <td>       ronnyber</td>\n",
        "      <td> http://www.tripadvisor.com/ShowUserReviews-g14...</td>\n",
        "      <td> 3</td>\n",
        "      <td> 2011-11-23</td>\n",
        "      <td> 5</td>\n",
        "      <td>              Fascinating Geothermal landscape</td>\n",
        "      <td> We hiked the Bumpass Hell trail on July 31st 2...</td>\n",
        "      <td>  Windsor</td>\n",
        "      <td>     Canada</td>\n",
        "      <td> None</td>\n",
        "      <td>NaN</td>\n",
        "      <td> 0.525809</td>\n",
        "      <td> 5137</td>\n",
        "      <td>   Bumpass Hell</td>\n",
        "      <td> TRIP_ADVISOR</td>\n",
        "    </tr>\n",
        "    <tr>\n",
        "      <th>4792</th>\n",
        "      <td> 11944</td>\n",
        "      <td> 225</td>\n",
        "      <td>               </td>\n",
        "      <td> http://www.tripadvisor.com/ShowUserReviews-g14...</td>\n",
        "      <td> 3</td>\n",
        "      <td> 2011-08-19</td>\n",
        "      <td> 4</td>\n",
        "      <td>                                    Great hike</td>\n",
        "      <td> Bumpass Hell is a great hike. It's just a shor...</td>\n",
        "      <td>         </td>\n",
        "      <td>           </td>\n",
        "      <td> None</td>\n",
        "      <td>NaN</td>\n",
        "      <td> 0.185864</td>\n",
        "      <td> 5138</td>\n",
        "      <td>   Bumpass Hell</td>\n",
        "      <td> TRIP_ADVISOR</td>\n",
        "    </tr>\n",
        "  </tbody>\n",
        "</table>\n",
        "<p>10 rows \u00d7 17 columns</p>\n",
        "</div>"
       ],
       "metadata": {},
       "output_type": "pyout",
       "prompt_number": 29,
       "text": [
        "      row_id  recId            user  \\\n",
        "4783   11923    204  look_for_trail   \n",
        "4784   11923    204  look_for_trail   \n",
        "4785   11932    213     Lucky_Lomio   \n",
        "4786   11935    216         Rook3rs   \n",
        "4787   11936    217     VIPofHotels   \n",
        "4788   11936    217     VIPofHotels   \n",
        "4789   11940    221       Deborah M   \n",
        "4790   11941    222         meyersb   \n",
        "4791   11942    223        ronnyber   \n",
        "4792   11944    225                   \n",
        "\n",
        "                                                   link  sns        date  \\\n",
        "4783  http://www.tripadvisor.com/ShowUserReviews-g14...    3  2012-07-20   \n",
        "4784  http://www.tripadvisor.com/ShowUserReviews-g14...    3  2012-07-20   \n",
        "4785  http://www.tripadvisor.com/ShowUserReviews-g14...    3  2011-08-15   \n",
        "4786  http://www.tripadvisor.com/ShowUserReviews-g14...    3  2011-07-11   \n",
        "4787  http://www.tripadvisor.com/ShowUserReviews-g14...    3  2011-09-17   \n",
        "4788  http://www.tripadvisor.com/ShowUserReviews-g14...    3  2011-09-17   \n",
        "4789  http://www.tripadvisor.com/ShowUserReviews-g14...    3  2011-03-13   \n",
        "4790  http://www.tripadvisor.com/ShowUserReviews-g14...    3  2011-07-09   \n",
        "4791  http://www.tripadvisor.com/ShowUserReviews-g14...    3  2011-11-23   \n",
        "4792  http://www.tripadvisor.com/ShowUserReviews-g14...    3  2011-08-19   \n",
        "\n",
        "      rating                                          title  \\\n",
        "4783       5             Wonderful Park with so much to see   \n",
        "4784       5             Wonderful Park with so much to see   \n",
        "4785       5          Nice Hike but young one's got tired..   \n",
        "4786       4                                    super views   \n",
        "4787       5                Top trail in Lassen Volcanic NP   \n",
        "4788       5                Top trail in Lassen Volcanic NP   \n",
        "4789       5  If The Trail Is Clear Don't Miss This Hike to   \n",
        "4790       5                         America the Beautiful!   \n",
        "4791       5               Fascinating Geothermal landscape   \n",
        "4792       4                                     Great hike   \n",
        "\n",
        "                                                comment      city       state  \\\n",
        "4783  We wanted to visit this park a while ago final...  San Jose  California   \n",
        "4784  We wanted to visit this park a while ago final...  San Jose  California   \n",
        "4785  My wife and I and our 2 sons ages 5 & 2 (almos...  San Jose  California   \n",
        "4786  As you drive through the park there are many d...  Scotland               \n",
        "4787  This trail is so attractive that we spent anot...  San Jose          CA   \n",
        "4788  This trail is so attractive that we spent anot...  San Jose          CA   \n",
        "4789  Bumpass hell is the largest area containnig ge...   Chicago    Illinois   \n",
        "4790  This place is amazing. Extremely scenic great ...   Chicago               \n",
        "4791  We hiked the Bumpass Hell trail on July 31st 2...   Windsor      Canada   \n",
        "4792  Bumpass Hell is a great hike. It's just a shor...                         \n",
        "\n",
        "     address  visbility_count  sentiment  site_id           place  \\\n",
        "4783    None              NaN   0.282169     5129    Bumpass Hell   \n",
        "4784    None              NaN   0.282169     5130    King's Creek   \n",
        "4785    None              NaN   0.000000     5131    Bumpass Hell   \n",
        "4786    None              NaN   0.061527     5132  Visitor Center   \n",
        "4787    None              NaN   0.323733     5133    Bumpass Hell   \n",
        "4788    None              NaN   0.323733     5134   Sulphur Works   \n",
        "4789    None              NaN  -0.507910     5135    Bumpass Hell   \n",
        "4790    None              NaN   0.578136     5136    Bumpass Hell   \n",
        "4791    None              NaN   0.525809     5137    Bumpass Hell   \n",
        "4792    None              NaN   0.185864     5138    Bumpass Hell   \n",
        "\n",
        "           snsname  \n",
        "4783  TRIP_ADVISOR  \n",
        "4784  TRIP_ADVISOR  \n",
        "4785  TRIP_ADVISOR  \n",
        "4786  TRIP_ADVISOR  \n",
        "4787  TRIP_ADVISOR  \n",
        "4788  TRIP_ADVISOR  \n",
        "4789  TRIP_ADVISOR  \n",
        "4790  TRIP_ADVISOR  \n",
        "4791  TRIP_ADVISOR  \n",
        "4792  TRIP_ADVISOR  \n",
        "\n",
        "[10 rows x 17 columns]"
       ]
      }
     ],
     "prompt_number": 29
    },
    {
     "cell_type": "code",
     "collapsed": false,
     "input": [
      "dimSites = mergeDf[[0,15]]\n",
      "dimSites[-2:]\n"
     ],
     "language": "python",
     "metadata": {},
     "outputs": [
      {
       "html": [
        "<div style=\"max-height:1000px;max-width:1500px;overflow:auto;\">\n",
        "<table border=\"1\" class=\"dataframe\">\n",
        "  <thead>\n",
        "    <tr style=\"text-align: right;\">\n",
        "      <th></th>\n",
        "      <th>row_id</th>\n",
        "      <th>place</th>\n",
        "    </tr>\n",
        "  </thead>\n",
        "  <tbody>\n",
        "    <tr>\n",
        "      <th>4791</th>\n",
        "      <td> 11942</td>\n",
        "      <td> Bumpass Hell</td>\n",
        "    </tr>\n",
        "    <tr>\n",
        "      <th>4792</th>\n",
        "      <td> 11944</td>\n",
        "      <td> Bumpass Hell</td>\n",
        "    </tr>\n",
        "  </tbody>\n",
        "</table>\n",
        "<p>2 rows \u00d7 2 columns</p>\n",
        "</div>"
       ],
       "metadata": {},
       "output_type": "pyout",
       "prompt_number": 33,
       "text": [
        "      row_id         place\n",
        "4791   11942  Bumpass Hell\n",
        "4792   11944  Bumpass Hell\n",
        "\n",
        "[2 rows x 2 columns]"
       ]
      }
     ],
     "prompt_number": 33
    },
    {
     "cell_type": "code",
     "collapsed": false,
     "input": [
      "df_fact = dimUser[[0]]\n",
      "#df_fact['user_id'] = dimUser[[0]]\n",
      "df_fact['comment_id'] = dimComment.index\n",
      "df_fact['date_id']=dimTime.index\n",
      "#df_fact['site_id'] = dimSites.index\n",
      "df_fact['site_id'] = dimUser[[0]]\n",
      "df_fact['sentiment'] = dataframe1['sentiment']\n",
      "df_fact['rating']=dataframe1['rating']"
     ],
     "language": "python",
     "metadata": {},
     "outputs": [],
     "prompt_number": 36
    },
    {
     "cell_type": "code",
     "collapsed": false,
     "input": [
      "df_fact[4000:4015]"
     ],
     "language": "python",
     "metadata": {},
     "outputs": [
      {
       "html": [
        "<div style=\"max-height:1000px;max-width:1500px;overflow:auto;\">\n",
        "<table border=\"1\" class=\"dataframe\">\n",
        "  <thead>\n",
        "    <tr style=\"text-align: right;\">\n",
        "      <th></th>\n",
        "      <th>row_id</th>\n",
        "      <th>comment_id</th>\n",
        "      <th>date_id</th>\n",
        "      <th>site_id</th>\n",
        "      <th>sentiment</th>\n",
        "      <th>rating</th>\n",
        "    </tr>\n",
        "  </thead>\n",
        "  <tbody>\n",
        "    <tr>\n",
        "      <th>4000</th>\n",
        "      <td> 10929</td>\n",
        "      <td> 4000</td>\n",
        "      <td> 4000</td>\n",
        "      <td> 10929</td>\n",
        "      <td>-0.49</td>\n",
        "      <td>NaN</td>\n",
        "    </tr>\n",
        "    <tr>\n",
        "      <th>4001</th>\n",
        "      <td> 10930</td>\n",
        "      <td> 4001</td>\n",
        "      <td> 4001</td>\n",
        "      <td> 10930</td>\n",
        "      <td>-0.49</td>\n",
        "      <td>NaN</td>\n",
        "    </tr>\n",
        "    <tr>\n",
        "      <th>4002</th>\n",
        "      <td> 10931</td>\n",
        "      <td> 4002</td>\n",
        "      <td> 4002</td>\n",
        "      <td> 10931</td>\n",
        "      <td>-0.49</td>\n",
        "      <td>NaN</td>\n",
        "    </tr>\n",
        "    <tr>\n",
        "      <th>4003</th>\n",
        "      <td> 10932</td>\n",
        "      <td> 4003</td>\n",
        "      <td> 4003</td>\n",
        "      <td> 10932</td>\n",
        "      <td>-0.49</td>\n",
        "      <td>NaN</td>\n",
        "    </tr>\n",
        "    <tr>\n",
        "      <th>4004</th>\n",
        "      <td> 10933</td>\n",
        "      <td> 4004</td>\n",
        "      <td> 4004</td>\n",
        "      <td> 10933</td>\n",
        "      <td>-0.49</td>\n",
        "      <td>NaN</td>\n",
        "    </tr>\n",
        "    <tr>\n",
        "      <th>4005</th>\n",
        "      <td> 10934</td>\n",
        "      <td> 4005</td>\n",
        "      <td> 4005</td>\n",
        "      <td> 10934</td>\n",
        "      <td> 0.00</td>\n",
        "      <td>NaN</td>\n",
        "    </tr>\n",
        "    <tr>\n",
        "      <th>4006</th>\n",
        "      <td> 10935</td>\n",
        "      <td> 4006</td>\n",
        "      <td> 4006</td>\n",
        "      <td> 10935</td>\n",
        "      <td> 0.00</td>\n",
        "      <td>NaN</td>\n",
        "    </tr>\n",
        "    <tr>\n",
        "      <th>4007</th>\n",
        "      <td> 10936</td>\n",
        "      <td> 4007</td>\n",
        "      <td> 4007</td>\n",
        "      <td> 10936</td>\n",
        "      <td> 0.00</td>\n",
        "      <td>NaN</td>\n",
        "    </tr>\n",
        "    <tr>\n",
        "      <th>4008</th>\n",
        "      <td> 10937</td>\n",
        "      <td> 4008</td>\n",
        "      <td> 4008</td>\n",
        "      <td> 10937</td>\n",
        "      <td> 0.00</td>\n",
        "      <td>NaN</td>\n",
        "    </tr>\n",
        "    <tr>\n",
        "      <th>4009</th>\n",
        "      <td> 10938</td>\n",
        "      <td> 4009</td>\n",
        "      <td> 4009</td>\n",
        "      <td> 10938</td>\n",
        "      <td> 0.00</td>\n",
        "      <td>NaN</td>\n",
        "    </tr>\n",
        "    <tr>\n",
        "      <th>4010</th>\n",
        "      <td> 10939</td>\n",
        "      <td> 4010</td>\n",
        "      <td> 4010</td>\n",
        "      <td> 10939</td>\n",
        "      <td> 0.00</td>\n",
        "      <td>NaN</td>\n",
        "    </tr>\n",
        "    <tr>\n",
        "      <th>4011</th>\n",
        "      <td> 10940</td>\n",
        "      <td> 4011</td>\n",
        "      <td> 4011</td>\n",
        "      <td> 10940</td>\n",
        "      <td> 0.00</td>\n",
        "      <td>NaN</td>\n",
        "    </tr>\n",
        "    <tr>\n",
        "      <th>4012</th>\n",
        "      <td> 10941</td>\n",
        "      <td> 4012</td>\n",
        "      <td> 4012</td>\n",
        "      <td> 10941</td>\n",
        "      <td> 0.00</td>\n",
        "      <td>NaN</td>\n",
        "    </tr>\n",
        "    <tr>\n",
        "      <th>4013</th>\n",
        "      <td> 10942</td>\n",
        "      <td> 4013</td>\n",
        "      <td> 4013</td>\n",
        "      <td> 10942</td>\n",
        "      <td> 0.00</td>\n",
        "      <td>NaN</td>\n",
        "    </tr>\n",
        "    <tr>\n",
        "      <th>4014</th>\n",
        "      <td> 10943</td>\n",
        "      <td> 4014</td>\n",
        "      <td> 4014</td>\n",
        "      <td> 10943</td>\n",
        "      <td> 0.00</td>\n",
        "      <td>NaN</td>\n",
        "    </tr>\n",
        "  </tbody>\n",
        "</table>\n",
        "<p>15 rows \u00d7 6 columns</p>\n",
        "</div>"
       ],
       "metadata": {},
       "output_type": "pyout",
       "prompt_number": 39,
       "text": [
        "      row_id  comment_id  date_id  site_id  sentiment  rating\n",
        "4000   10929        4000     4000    10929      -0.49     NaN\n",
        "4001   10930        4001     4001    10930      -0.49     NaN\n",
        "4002   10931        4002     4002    10931      -0.49     NaN\n",
        "4003   10932        4003     4003    10932      -0.49     NaN\n",
        "4004   10933        4004     4004    10933      -0.49     NaN\n",
        "4005   10934        4005     4005    10934       0.00     NaN\n",
        "4006   10935        4006     4006    10935       0.00     NaN\n",
        "4007   10936        4007     4007    10936       0.00     NaN\n",
        "4008   10937        4008     4008    10937       0.00     NaN\n",
        "4009   10938        4009     4009    10938       0.00     NaN\n",
        "4010   10939        4010     4010    10939       0.00     NaN\n",
        "4011   10940        4011     4011    10940       0.00     NaN\n",
        "4012   10941        4012     4012    10941       0.00     NaN\n",
        "4013   10942        4013     4013    10942       0.00     NaN\n",
        "4014   10943        4014     4014    10943       0.00     NaN\n",
        "\n",
        "[15 rows x 6 columns]"
       ]
      }
     ],
     "prompt_number": 39
    },
    {
     "cell_type": "code",
     "collapsed": false,
     "input": [
      "#dimUser.to_csv('dimUser3.csv')\n",
      "#dimTime.to_csv('dimTime2.csv')\n",
      "dimComment.to_csv('dimComment4.csv')\n",
      "#dimSites.to_csv('dimSites2.csv')\n",
      "#df_fact.to_csv('df_fact2.csv')"
     ],
     "language": "python",
     "metadata": {},
     "outputs": [],
     "prompt_number": 58
    },
    {
     "cell_type": "code",
     "collapsed": false,
     "input": [
      "dataframe6 = sql.read_frame(\"SELECT TRACK_SITES.id, TRACK_SITES.social, TRACK_SITES.recId, TRACK_SITES.place,SOCIALNETS.id AS sns FROM TRACK_SITES, SOCIALNETS WHERE UPPER( TRACK_SITES.social ) = SOCIALNETS.sns\",conn)\n"
     ],
     "language": "python",
     "metadata": {},
     "outputs": []
    },
    {
     "cell_type": "code",
     "collapsed": false,
     "input": [],
     "language": "python",
     "metadata": {},
     "outputs": []
    },
    {
     "cell_type": "code",
     "collapsed": false,
     "input": [],
     "language": "python",
     "metadata": {},
     "outputs": []
    },
    {
     "cell_type": "code",
     "collapsed": false,
     "input": [],
     "language": "python",
     "metadata": {},
     "outputs": []
    },
    {
     "cell_type": "code",
     "collapsed": false,
     "input": [],
     "language": "python",
     "metadata": {},
     "outputs": []
    },
    {
     "cell_type": "code",
     "collapsed": false,
     "input": [],
     "language": "python",
     "metadata": {},
     "outputs": []
    },
    {
     "cell_type": "code",
     "collapsed": false,
     "input": [],
     "language": "python",
     "metadata": {},
     "outputs": []
    },
    {
     "cell_type": "code",
     "collapsed": false,
     "input": [
      "df1 = dataframe1[[2,12,11,10]]\n",
      "df1[:2]"
     ],
     "language": "python",
     "metadata": {},
     "outputs": []
    },
    {
     "cell_type": "code",
     "collapsed": false,
     "input": [
      "df2 = dataframe1[[2,5]]"
     ],
     "language": "python",
     "metadata": {},
     "outputs": []
    },
    {
     "cell_type": "code",
     "collapsed": false,
     "input": [
      "df2[:2]"
     ],
     "language": "python",
     "metadata": {},
     "outputs": []
    },
    {
     "cell_type": "code",
     "collapsed": false,
     "input": [
      "# testing concate\n",
      "#df2['sot']= df2['YELPUSERID']+''+df2['YELPUSERLOCATION']"
     ],
     "language": "python",
     "metadata": {},
     "outputs": []
    },
    {
     "cell_type": "code",
     "collapsed": false,
     "input": [
      "df2[:2]"
     ],
     "language": "python",
     "metadata": {},
     "outputs": []
    },
    {
     "cell_type": "code",
     "collapsed": false,
     "input": [
      "df3 = dataframe1[[2,3,4,6,7,8,9,13,14,15,16]]"
     ],
     "language": "python",
     "metadata": {},
     "outputs": []
    },
    {
     "cell_type": "code",
     "collapsed": false,
     "input": [
      "df3['USERID'] = df3.index"
     ],
     "language": "python",
     "metadata": {},
     "outputs": []
    },
    {
     "cell_type": "code",
     "collapsed": false,
     "input": [
      "df3[:2]"
     ],
     "language": "python",
     "metadata": {},
     "outputs": []
    },
    {
     "cell_type": "code",
     "collapsed": false,
     "input": [
      "df1['d1'] = df1['YELPREVIEWDAY'].map(lambda x: str(x))\n",
      "df1['d2'] = df1['YELPREVIEWMONTH'].map(lambda x: str(x))\n",
      "df1['d3'] = df1['YELPREVIEWYEAR'].map(lambda x: str(x))"
     ],
     "language": "python",
     "metadata": {},
     "outputs": []
    },
    {
     "cell_type": "code",
     "collapsed": false,
     "input": [
      "df1[:2]"
     ],
     "language": "python",
     "metadata": {},
     "outputs": []
    },
    {
     "cell_type": "code",
     "collapsed": false,
     "input": [
      "df1['REC'] = df1['YELPUSERID']+df1['d1']+df1['d2']+df1['d3']\n",
      "df1['TIMEID'] = df1.index"
     ],
     "language": "python",
     "metadata": {},
     "outputs": []
    },
    {
     "cell_type": "code",
     "collapsed": false,
     "input": [
      "df1[:2]"
     ],
     "language": "python",
     "metadata": {},
     "outputs": []
    },
    {
     "cell_type": "code",
     "collapsed": false,
     "input": [
      "df1 = df1.drop('d1',1)"
     ],
     "language": "python",
     "metadata": {},
     "outputs": []
    },
    {
     "cell_type": "code",
     "collapsed": false,
     "input": [
      "df1 = df1.drop('d2',1)"
     ],
     "language": "python",
     "metadata": {},
     "outputs": []
    },
    {
     "cell_type": "code",
     "collapsed": false,
     "input": [
      "df1 = df1.drop('d3',1)\n",
      "df1"
     ],
     "language": "python",
     "metadata": {},
     "outputs": []
    },
    {
     "cell_type": "code",
     "collapsed": false,
     "input": [
      "df2['CITY'] = df2['YELPUSERLOCATION'].map(lambda x: str(x)[:-4])"
     ],
     "language": "python",
     "metadata": {},
     "outputs": []
    },
    {
     "cell_type": "code",
     "collapsed": false,
     "input": [
      "df2[:2]"
     ],
     "language": "python",
     "metadata": {},
     "outputs": []
    },
    {
     "cell_type": "code",
     "collapsed": false,
     "input": [
      "df2['STATE'] = df2['YELPUSERLOCATION'].map(lambda x:str(x)[-3:])"
     ],
     "language": "python",
     "metadata": {},
     "outputs": []
    },
    {
     "cell_type": "code",
     "collapsed": false,
     "input": [
      "df2[:10]"
     ],
     "language": "python",
     "metadata": {},
     "outputs": []
    },
    {
     "cell_type": "code",
     "collapsed": false,
     "input": [
      "v = \"lfjfjfjflgjhwoei\"\n",
      "k = str(v)[-3:]\n",
      "k"
     ],
     "language": "python",
     "metadata": {},
     "outputs": []
    },
    {
     "cell_type": "code",
     "collapsed": false,
     "input": [
      "df2['REC'] = df2.YELPUSERID+df2.STATE\n",
      "df2['LOCATIONID'] = df2.index"
     ],
     "language": "python",
     "metadata": {},
     "outputs": []
    },
    {
     "cell_type": "code",
     "collapsed": false,
     "input": [
      "df2[:2]"
     ],
     "language": "python",
     "metadata": {},
     "outputs": []
    },
    {
     "cell_type": "code",
     "collapsed": false,
     "input": [
      "df4 = df1[[5]]"
     ],
     "language": "python",
     "metadata": {},
     "outputs": []
    },
    {
     "cell_type": "code",
     "collapsed": false,
     "input": [
      "df4"
     ],
     "language": "python",
     "metadata": {},
     "outputs": []
    },
    {
     "cell_type": "code",
     "collapsed": false,
     "input": [
      "df4['LOCATIONID'] = df2[[5]]"
     ],
     "language": "python",
     "metadata": {},
     "outputs": []
    },
    {
     "cell_type": "code",
     "collapsed": false,
     "input": [
      "df4[:2]"
     ],
     "language": "python",
     "metadata": {},
     "outputs": []
    },
    {
     "cell_type": "code",
     "collapsed": false,
     "input": [
      "df4['USERID'] = df3[[11]]"
     ],
     "language": "python",
     "metadata": {},
     "outputs": []
    },
    {
     "cell_type": "code",
     "collapsed": false,
     "input": [
      "df4[:2]"
     ],
     "language": "python",
     "metadata": {},
     "outputs": []
    },
    {
     "cell_type": "code",
     "collapsed": false,
     "input": [
      "df4['RATINGS'] = df3[[6]]"
     ],
     "language": "python",
     "metadata": {},
     "outputs": []
    },
    {
     "cell_type": "code",
     "collapsed": false,
     "input": [
      "df4[:2]"
     ],
     "language": "python",
     "metadata": {},
     "outputs": []
    },
    {
     "cell_type": "code",
     "collapsed": false,
     "input": [
      "df1 = df1.drop('YELPUSERID',1)"
     ],
     "language": "python",
     "metadata": {},
     "outputs": []
    },
    {
     "cell_type": "code",
     "collapsed": false,
     "input": [
      "df1[:2]"
     ],
     "language": "python",
     "metadata": {},
     "outputs": []
    },
    {
     "cell_type": "code",
     "collapsed": false,
     "input": [
      "df2 = df2.drop('YELPUSERID',1)"
     ],
     "language": "python",
     "metadata": {},
     "outputs": []
    },
    {
     "cell_type": "code",
     "collapsed": false,
     "input": [
      "df2[:2]"
     ],
     "language": "python",
     "metadata": {},
     "outputs": []
    },
    {
     "cell_type": "code",
     "collapsed": false,
     "input": [
      "df2 = df2.drop('YELPUSERLOCATION',1)"
     ],
     "language": "python",
     "metadata": {},
     "outputs": []
    },
    {
     "cell_type": "code",
     "collapsed": false,
     "input": [
      "df2[:2]"
     ],
     "language": "python",
     "metadata": {},
     "outputs": []
    },
    {
     "cell_type": "code",
     "collapsed": false,
     "input": [
      "df3 = df3.drop('YELPRATINGVALUE',1)"
     ],
     "language": "python",
     "metadata": {},
     "outputs": []
    },
    {
     "cell_type": "code",
     "collapsed": false,
     "input": [
      "df3[:2]"
     ],
     "language": "python",
     "metadata": {},
     "outputs": []
    },
    {
     "cell_type": "code",
     "collapsed": false,
     "input": [
      "df3.to_csv('userinfo.csv')"
     ],
     "language": "python",
     "metadata": {},
     "outputs": []
    },
    {
     "cell_type": "code",
     "collapsed": false,
     "input": [
      "!cat userinfo.csv"
     ],
     "language": "python",
     "metadata": {},
     "outputs": []
    },
    {
     "cell_type": "code",
     "collapsed": false,
     "input": [
      "df1.to_csv('timeinfo.csv')"
     ],
     "language": "python",
     "metadata": {},
     "outputs": []
    },
    {
     "cell_type": "code",
     "collapsed": false,
     "input": [
      "df2.to_csv('locationinfo.csv')"
     ],
     "language": "python",
     "metadata": {},
     "outputs": []
    },
    {
     "cell_type": "code",
     "collapsed": false,
     "input": [
      "df4.to_csv('factETL.csv')"
     ],
     "language": "python",
     "metadata": {},
     "outputs": []
    },
    {
     "cell_type": "code",
     "collapsed": false,
     "input": [
      "!cat factETL.csv"
     ],
     "language": "python",
     "metadata": {},
     "outputs": []
    },
    {
     "cell_type": "code",
     "collapsed": false,
     "input": [
      "import os"
     ],
     "language": "python",
     "metadata": {},
     "outputs": []
    },
    {
     "cell_type": "code",
     "collapsed": false,
     "input": [
      "# relative to parent dir\n",
      "DATA_FILES ={\"facebook\":\"/Users/aisha/lassen_facebook_page_feed.json\",\n",
      "             \"google\":\"/Users/aisha/lassen_google_place_json_result.json\",\n",
      "             \"four\":\"/Users/aisha/lassen_foursquare_json_result.json\"}\n",
      "\n",
      "def file_path(key):\n",
      "    return os.path.join(os.pardir, DATA_FILES[key])\n",
      "\n",
      "for file_key in DATA_FILES.keys():\n",
      "    abs_fname = file_path(file_key)\n",
      "    print abs_fname, os.path.exists(abs_fname)\n",
      "    "
     ],
     "language": "python",
     "metadata": {},
     "outputs": []
    },
    {
     "cell_type": "code",
     "collapsed": false,
     "input": [
      "import json\n",
      "import codecs\n",
      "from pprint import pprint\n",
      "\n",
      "f = codecs.open(file_path(\"facebook\"), encoding='iso-8859-1')\n"
     ],
     "language": "python",
     "metadata": {},
     "outputs": []
    },
    {
     "cell_type": "code",
     "collapsed": false,
     "input": [
      "\n",
      "result = json.load(f)\n"
     ],
     "language": "python",
     "metadata": {},
     "outputs": []
    },
    {
     "cell_type": "code",
     "collapsed": false,
     "input": [
      "pprint(result)"
     ],
     "language": "python",
     "metadata": {},
     "outputs": []
    },
    {
     "cell_type": "code",
     "collapsed": false,
     "input": [
      "result['data'][6]['likes']['data']"
     ],
     "language": "python",
     "metadata": {},
     "outputs": []
    },
    {
     "cell_type": "code",
     "collapsed": false,
     "input": [
      "len(result['data'][6]['comments']['data'])"
     ],
     "language": "python",
     "metadata": {},
     "outputs": []
    },
    {
     "cell_type": "code",
     "collapsed": false,
     "input": [
      "i=0\n",
      "postings =[]\n",
      "comments =[]\n",
      "temp2={}\n",
      "\n",
      "for post in result['data']:\n",
      "    i=i+1\n",
      "    #print post['message']\n",
      "    #print post['created_time']\n",
      "    #print post['updated_time']\n",
      "    #print post['object_id']\n",
      "    #print post['type']\n",
      "    #print post['picture']\n",
      "    #print post['link']\n",
      "    #print post['shares']['count']\n",
      "    if(post.get('shares') != None):\n",
      "        shares_count =  post['shares']['count']\n",
      "    else:\n",
      "        shares_count = 0\n",
      "        \n",
      "    if(post.get('likes') != None):\n",
      "        likes_count =  len(post['likes']['data'])\n",
      "    else:\n",
      "        likes_count = 0\n",
      "    \n",
      "    if(post.get('comments') != None):\n",
      "        comments_count =  len(post['comments']['data'])\n",
      "        for response in post['comments']['data']:\n",
      "            #print response['from']['name'] # example usage\n",
      "            #print response['from']['id']\n",
      "            #print response['id']\n",
      "            #print response['message']\n",
      "            #print response['created_time']\n",
      "            temp2 = {\"post_created_time\":post['created_time'],\"name\":response['from']['name'],\"id\":response['from']['id'],\"message\":response['message'],\"created_time\":response['created_time']}\n",
      "            comments.append(temp2)\n",
      "    else:\n",
      "        comments_count = 0\n",
      "    #comments_count = len(result['data']['comments']['data'])\n",
      "    #encode('ascii','ignore')\n",
      "    temp = {\"message\":post['message'].encode('utf-8'),\"created_time\":post['created_time'],\"updated_time\":post['updated_time'],\"type\":post['type'],\"picture\":post['picture'],\"link\":post['link'],\"likes\":likes_count,\"comments\":comments_count,\"shares\":shares_count}\n",
      "    postings.append(temp)\n",
      "    \n",
      "        #temp2.append({attribute:value})\n",
      "    #comments.append(temp2)\n",
      "postings"
     ],
     "language": "python",
     "metadata": {},
     "outputs": []
    },
    {
     "cell_type": "code",
     "collapsed": false,
     "input": [
      "from pandas import Series, DataFrame"
     ],
     "language": "python",
     "metadata": {},
     "outputs": []
    },
    {
     "cell_type": "code",
     "collapsed": false,
     "input": [
      "post_frame = DataFrame(postings)"
     ],
     "language": "python",
     "metadata": {},
     "outputs": []
    },
    {
     "cell_type": "code",
     "collapsed": false,
     "input": [
      "post_frame"
     ],
     "language": "python",
     "metadata": {},
     "outputs": []
    },
    {
     "cell_type": "code",
     "collapsed": false,
     "input": [
      "comments_frame = DataFrame(comments)\n",
      "comments_frame"
     ],
     "language": "python",
     "metadata": {},
     "outputs": []
    },
    {
     "cell_type": "code",
     "collapsed": false,
     "input": [
      "\n",
      "comments_frame.to_csv('facebook_comments.csv')"
     ],
     "language": "python",
     "metadata": {},
     "outputs": []
    },
    {
     "cell_type": "code",
     "collapsed": false,
     "input": [
      "post_frame.to_csv('facebook_postings.csv')"
     ],
     "language": "python",
     "metadata": {},
     "outputs": []
    },
    {
     "cell_type": "code",
     "collapsed": false,
     "input": [
      "g = codecs.open(file_path(\"google\"), encoding='iso-8859-1')\n",
      "google_result = json.load(g)\n",
      "\n",
      "google_reviews = []\n",
      "google_result['result']['reviews']\n",
      "for attr in google_result['result']['reviews']:\n",
      "    for asp in attr['aspects']:\n",
      "        temp3 = {\"author_name\":attr['author_name'],\"author_url\":attr['author_url'],\"rating\":attr['rating'],\"text\":attr['text'].encode('utf-8'),\"time\":attr['time'],\"asp_rating\":asp['rating'],\"asp_type\":asp['type']}\n",
      "        google_reviews.append(temp3)\n",
      "google_reviews"
     ],
     "language": "python",
     "metadata": {},
     "outputs": []
    },
    {
     "cell_type": "code",
     "collapsed": false,
     "input": [
      "google_rev_frame = DataFrame(google_reviews)\n",
      "google_rev_frame"
     ],
     "language": "python",
     "metadata": {},
     "outputs": []
    },
    {
     "cell_type": "code",
     "collapsed": false,
     "input": [
      "google_rev_frame.to_csv('google_reviews.csv')"
     ],
     "language": "python",
     "metadata": {},
     "outputs": []
    },
    {
     "cell_type": "code",
     "collapsed": false,
     "input": [],
     "language": "python",
     "metadata": {},
     "outputs": []
    }
   ],
   "metadata": {}
  }
 ]
}